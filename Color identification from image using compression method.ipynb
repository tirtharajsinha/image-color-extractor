{
 "cells": [
  {
   "cell_type": "markdown",
   "id": "d5b2e01a",
   "metadata": {},
   "source": [
    "# Dominant color identification of an image using compression method."
   ]
  },
  {
   "cell_type": "code",
   "execution_count": null,
   "id": "b9618aaa",
   "metadata": {},
   "outputs": [],
   "source": [
    "import matplotlib.pyplot as plt\n",
    "import numpy as np\n",
    "import cv2\n",
    "from collections import Counter\n",
    "import os\n",
    "import pprint\n",
    "\n",
    "%matplotlib inline\n",
    "path=r\"C:\\Users\\TIRTHA\\Downloads\\images\\photo-1579546929662-711aa81148cf.jpg\""
   ]
  },
  {
   "cell_type": "code",
   "execution_count": 38,
   "id": "0283c436",
   "metadata": {},
   "outputs": [],
   "source": [
    "def get_image(image_path,new_shape=(3,3),plot_original=False,plot_resized=True):\n",
    "    image_path=image_path.replace(\"\\\\\",\"/\")\n",
    "    print(image_path)\n",
    "    image = cv2.imread(image_path)\n",
    "    image = cv2.cvtColor(image, cv2.COLOR_BGR2RGB)\n",
    "    resized_image = cv2.resize(image, new_shape, interpolation = cv2.INTER_AREA)\n",
    "    flatten_image = resized_image.reshape(resized_image.shape[0]*resized_image.shape[1], 3)\n",
    "    \n",
    "    if plot_original:\n",
    "        plt.axis('off')\n",
    "        plt.imshow(image)\n",
    "        plt.title(\"Inserted image : \"+image_path.split(\"/\")[-1])\n",
    "        \n",
    "    if plot_resized:\n",
    "        plt.axis('off')\n",
    "        plt.imshow(resized_image)\n",
    "        plt.title(\"Inserted image : \"+image_path.split(\"/\")[-1])\n",
    "        \n",
    "    return resized_image,flatten_image\n",
    "\n",
    "def RGB2HEX(color):\n",
    "    return \"#{:02x}{:02x}{:02x}\".format(int(color[0]), int(color[1]), int(color[2]))\n",
    "\n",
    "def get_nearest_colors(act_color,rest_color):\n",
    "    \n",
    "    best_dist=[]\n",
    "    for rcolor in rest_color:\n",
    "        rdiff=act_color[0]-rcolor[0]\n",
    "        gdiff=act_color[1]-rcolor[1];\n",
    "        bdiff=act_color[2]-rcolor[2];\n",
    "        distance = rdiff**2 + gdiff**2 + bdiff**2\n",
    "        if distance<=7000:\n",
    "            best_dist.append(distance)\n",
    "    if len(best_dist) > 0:   \n",
    "        return [best_dist,len(best_dist),sum(best_dist)/len(best_dist)]\n",
    "    else:\n",
    "        return None\n",
    "\n",
    "    \n",
    "    \n",
    "def get_dominent_color(image_pixels):\n",
    "    \n",
    "    \n",
    "    value_list=[]\n",
    "    best_dict={}\n",
    "    max_sim=0\n",
    "    for i in range(len(image_pixels)):\n",
    "        temp_list=image_pixels.tolist()\n",
    "        temp_list.pop(i)\n",
    "        data=get_nearest_colors(image_pixels[i],temp_list)\n",
    "#         print(i)\n",
    "        if(data!=None):\n",
    "            data.append(i)\n",
    "#             print(i)\n",
    "            if(data[1]>max_sim):\n",
    "                max_sim=data[1]\n",
    "\n",
    "            best_dict[tuple(image_pixels[i])]=data\n",
    "        \n",
    "#     pprint.pprint(best_dict)\n",
    "    best_diff=10000\n",
    "    dom_color=\"\"\n",
    "    for color in best_dict.keys():\n",
    "        if(best_dict[color][1]==max_sim and best_dict[color][2]<best_diff):\n",
    "            \n",
    "            best_diff=best_dict[color][2]\n",
    "            dom_color=color\n",
    "    \n",
    "\n",
    "    return {\"dom_color_inRGB\":dom_color,\"dom_color_inHEX\":RGB2HEX(dom_color)}"
   ]
  },
  {
   "cell_type": "code",
   "execution_count": 43,
   "id": "2479b206",
   "metadata": {},
   "outputs": [
    {
     "name": "stdout",
     "output_type": "stream",
     "text": [
      "C:/Users/TIRTHA/Downloads/images/photo-1579546929662-711aa81148cf.jpg\n",
      "Wall time: 28 ms\n"
     ]
    },
    {
     "data": {
      "image/png": "[encoded data removed]",
      "text/plain": [
       "<Figure size 432x288 with 1 Axes>"
      ]
     },
     "metadata": {
      "needs_background": "light"
     },
     "output_type": "display_data"
    }
   ],
   "source": [
    "%%time\n",
    "modified_image,image_pixels=get_image(path,new_shape=(5,5),plot_original=False,plot_resized=True)"
   ]
  },
  {
   "cell_type": "code",
   "execution_count": 44,
   "id": "46874056",
   "metadata": {
    "scrolled": true
   },
   "outputs": [
    {
     "name": "stdout",
     "output_type": "stream",
     "text": [
      "Wall time: 5 ms\n"
     ]
    }
   ],
   "source": [
    "%%time\n",
    "\n",
    "result=get_dominent_color(image_pixels)\n"
   ]
  },
  {
   "cell_type": "code",
   "execution_count": 45,
   "id": "d014ea8e",
   "metadata": {},
   "outputs": [
    {
     "name": "stdout",
     "output_type": "stream",
     "text": [
      "{'dom_color_inHEX': '#e82da0', 'dom_color_inRGB': (232, 45, 160)}\n"
     ]
    },
    {
     "data": {
      "image/png": "[encoded data removed]",
      "text/plain": [
       "<Figure size 432x288 with 1 Axes>"
      ]
     },
     "metadata": {
      "needs_background": "light"
     },
     "output_type": "display_data"
    }
   ],
   "source": [
    "pprint.pprint(result)\n",
    "dom_color_block=np.full((5,5,3),result[\"dom_color_inRGB\"])\n",
    "\n",
    "plt.axis('off')\n",
    "plt.imshow(dom_color_block)\n",
    "plt.show()"
   ]
  },
  {
   "cell_type": "code",
   "execution_count": 7,
   "id": "1be12999",
   "metadata": {},
   "outputs": [],
   "source": [
    "# !explorer .\n"
   ]
  }
 ],
 "metadata": {
  "kernelspec": {
   "display_name": "Python 3",
   "language": "python",
   "name": "python3"
  },
  "language_info": {
   "codemirror_mode": {
    "name": "ipython",
    "version": 3
   },
   "file_extension": ".py",
   "mimetype": "text/x-python",
   "name": "python",
   "nbconvert_exporter": "python",
   "pygments_lexer": "ipython3",
   "version": "3.8.8"
  }
 },
 "nbformat": 4,
 "nbformat_minor": 5
}
